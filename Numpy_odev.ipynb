{
 "cells": [
  {
   "cell_type": "markdown",
   "id": "a0f6364d",
   "metadata": {},
   "source": [
    "##### 1.Sayılardan oluşan bir boyutlu array oluşturun. Arrayi oluştururken sayıların veri tipini integer olarak belirtelim.\n",
    "\n",
    "Oluşturulan arrayin boyut, eleman sayısı bilgilerine bakalım."
   ]
  },
  {
   "cell_type": "code",
   "execution_count": 41,
   "id": "c16c30a6",
   "metadata": {},
   "outputs": [
    {
     "data": {
      "text/plain": [
       "dtype('int32')"
      ]
     },
     "execution_count": 41,
     "metadata": {},
     "output_type": "execute_result"
    }
   ],
   "source": [
    "import numpy as np\n",
    "n = np.array([15,45,47,5,9,63])\n",
    "type(n)\n",
    "n.dtype"
   ]
  },
  {
   "cell_type": "code",
   "execution_count": 18,
   "id": "cfe24e86",
   "metadata": {},
   "outputs": [
    {
     "data": {
      "text/plain": [
       "array([15, 45, 47,  5,  9, 63])"
      ]
     },
     "execution_count": 18,
     "metadata": {},
     "output_type": "execute_result"
    }
   ],
   "source": [
    "np.array([15,45,47,5,9,63])"
   ]
  },
  {
   "cell_type": "code",
   "execution_count": 20,
   "id": "da2de8dd",
   "metadata": {},
   "outputs": [
    {
     "name": "stdout",
     "output_type": "stream",
     "text": [
      "1\n",
      "6\n"
     ]
    }
   ],
   "source": [
    "array = np.array([15,45,47,5,9,63])\n",
    "print(array.ndim)\n",
    "print(array.size)"
   ]
  },
  {
   "cell_type": "markdown",
   "id": "1681f851",
   "metadata": {},
   "source": [
    "##### 2. Aşağıda verilen iki boyutlu ve üç boyutlu arrayi oluşturalım. Bu arraylerin boyut, eleman sayısı, satır, sütun bilgilerine ulaşalım. \n",
    "\n",
    "İki boyutlu array:\n",
    "[[1,2,6,7],\n",
    " [4,3,9,5]]\n",
    "\n",
    "Üç boyutlu array:\n",
    "[[[7,5,14],[21,8,11]],\n",
    " [[8,6,20],[14,3,9]]]\n",
    "\n",
    " "
   ]
  },
  {
   "cell_type": "code",
   "execution_count": 45,
   "id": "e3a138ed",
   "metadata": {},
   "outputs": [],
   "source": [
    "import numpy as np\n",
    "array = ([[1,2,6,7],[4,3,9,5]])\n",
    "array3 = ([[[7,5,14],[21,8,11]],[[8,6,20],[14,3,9]]])\n"
   ]
  },
  {
   "cell_type": "code",
   "execution_count": 51,
   "id": "98aac284",
   "metadata": {},
   "outputs": [],
   "source": [
    "k = np.array([[1,2,6,7],[4,3,9,5]])\n",
    "m = np.array([[[7,5,14],[21,8,11]],[[8,6,20],[14,3,9]]])"
   ]
  },
  {
   "cell_type": "code",
   "execution_count": 55,
   "id": "bcc2b15f",
   "metadata": {},
   "outputs": [
    {
     "name": "stdout",
     "output_type": "stream",
     "text": [
      "8\n"
     ]
    }
   ],
   "source": [
    "print(k.size)"
   ]
  },
  {
   "cell_type": "code",
   "execution_count": 56,
   "id": "734e4a30",
   "metadata": {},
   "outputs": [
    {
     "name": "stdout",
     "output_type": "stream",
     "text": [
      "12\n"
     ]
    }
   ],
   "source": [
    "print(m.size)"
   ]
  },
  {
   "cell_type": "code",
   "execution_count": 54,
   "id": "9aa370e3",
   "metadata": {},
   "outputs": [
    {
     "data": {
      "text/plain": [
       "dtype('int32')"
      ]
     },
     "execution_count": 54,
     "metadata": {},
     "output_type": "execute_result"
    }
   ],
   "source": [
    "k.dtype"
   ]
  },
  {
   "cell_type": "code",
   "execution_count": 53,
   "id": "bdf998b1",
   "metadata": {},
   "outputs": [
    {
     "data": {
      "text/plain": [
       "dtype('int32')"
      ]
     },
     "execution_count": 53,
     "metadata": {},
     "output_type": "execute_result"
    }
   ],
   "source": [
    "\n",
    "m.dtype"
   ]
  },
  {
   "cell_type": "code",
   "execution_count": 57,
   "id": "5ee9fe9a",
   "metadata": {},
   "outputs": [
    {
     "data": {
      "text/plain": [
       "(2, 4)"
      ]
     },
     "execution_count": 57,
     "metadata": {},
     "output_type": "execute_result"
    }
   ],
   "source": [
    "np.shape(k)"
   ]
  },
  {
   "cell_type": "code",
   "execution_count": 58,
   "id": "2330f5ec",
   "metadata": {},
   "outputs": [
    {
     "data": {
      "text/plain": [
       "(2, 2, 3)"
      ]
     },
     "execution_count": 58,
     "metadata": {},
     "output_type": "execute_result"
    }
   ],
   "source": [
    "np.shape(m)"
   ]
  },
  {
   "cell_type": "markdown",
   "id": "b45192b0",
   "metadata": {},
   "source": [
    "##### 3. İstenilen elamanlara ulaşmak için arrayler üzerinde indexleme işlemi yapalım"
   ]
  },
  {
   "cell_type": "code",
   "execution_count": 59,
   "id": "97821ecf",
   "metadata": {},
   "outputs": [
    {
     "data": {
      "text/plain": [
       "array([[1, 2, 6, 7],\n",
       "       [4, 3, 9, 5]])"
      ]
     },
     "execution_count": 59,
     "metadata": {},
     "output_type": "execute_result"
    }
   ],
   "source": [
    "k"
   ]
  },
  {
   "cell_type": "code",
   "execution_count": 60,
   "id": "563f9992",
   "metadata": {},
   "outputs": [
    {
     "data": {
      "text/plain": [
       "2"
      ]
     },
     "execution_count": 60,
     "metadata": {},
     "output_type": "execute_result"
    }
   ],
   "source": [
    "#İki boyutlu arraydaki 2 elemanına ulaşalım\n",
    "k[0,1]"
   ]
  },
  {
   "cell_type": "code",
   "execution_count": 61,
   "id": "fd0a0be4",
   "metadata": {},
   "outputs": [
    {
     "data": {
      "text/plain": [
       "7"
      ]
     },
     "execution_count": 61,
     "metadata": {},
     "output_type": "execute_result"
    }
   ],
   "source": [
    "#İki boyutlu arraydaki 7 elemanına ulaşalım\n",
    "k[0,3]"
   ]
  },
  {
   "cell_type": "code",
   "execution_count": 62,
   "id": "1a6241a3",
   "metadata": {},
   "outputs": [
    {
     "data": {
      "text/plain": [
       "array([[[ 7,  5, 14],\n",
       "        [21,  8, 11]],\n",
       "\n",
       "       [[ 8,  6, 20],\n",
       "        [14,  3,  9]]])"
      ]
     },
     "execution_count": 62,
     "metadata": {},
     "output_type": "execute_result"
    }
   ],
   "source": [
    "m"
   ]
  },
  {
   "cell_type": "code",
   "execution_count": 63,
   "id": "0c2b1884",
   "metadata": {},
   "outputs": [
    {
     "data": {
      "text/plain": [
       "9"
      ]
     },
     "execution_count": 63,
     "metadata": {},
     "output_type": "execute_result"
    }
   ],
   "source": [
    "#Üç boyutlu arraydaki 9 elemanına ulaşalım\n",
    "m[1,1,2]"
   ]
  },
  {
   "cell_type": "code",
   "execution_count": 64,
   "id": "0dc07d00",
   "metadata": {},
   "outputs": [
    {
     "data": {
      "text/plain": [
       "5"
      ]
     },
     "execution_count": 64,
     "metadata": {},
     "output_type": "execute_result"
    }
   ],
   "source": [
    "#Üç boyutlu arraydaki 5 elemanına ulaşalım\n",
    "m[0,0,1]"
   ]
  },
  {
   "cell_type": "markdown",
   "id": "12198bc9",
   "metadata": {},
   "source": [
    "##### 4. Arrayler üzerinde slicing işlemi uygulayalım."
   ]
  },
  {
   "cell_type": "code",
   "execution_count": 65,
   "id": "0113b35a",
   "metadata": {},
   "outputs": [
    {
     "data": {
      "text/plain": [
       "array([[1, 2, 6, 7],\n",
       "       [4, 3, 9, 5]])"
      ]
     },
     "execution_count": 65,
     "metadata": {},
     "output_type": "execute_result"
    }
   ],
   "source": [
    "k"
   ]
  },
  {
   "cell_type": "code",
   "execution_count": 69,
   "id": "9d066ba1",
   "metadata": {},
   "outputs": [
    {
     "data": {
      "text/plain": [
       "array([2, 6])"
      ]
     },
     "execution_count": 69,
     "metadata": {},
     "output_type": "execute_result"
    }
   ],
   "source": [
    "#İki boyutlu arraydaki 2,6 elemanlarına ulaşalım\n",
    "k[0,1:3]"
   ]
  },
  {
   "cell_type": "code",
   "execution_count": 70,
   "id": "e020f980",
   "metadata": {},
   "outputs": [
    {
     "data": {
      "text/plain": [
       "array([3, 9, 5])"
      ]
     },
     "execution_count": 70,
     "metadata": {},
     "output_type": "execute_result"
    }
   ],
   "source": [
    "#İki boyutlu arraydaki 3,9,5 elemanlarına ulaşalım\n",
    "k[1,1:4]"
   ]
  },
  {
   "cell_type": "code",
   "execution_count": 71,
   "id": "5aff23af",
   "metadata": {},
   "outputs": [
    {
     "data": {
      "text/plain": [
       "array([[[ 7,  5, 14],\n",
       "        [21,  8, 11]],\n",
       "\n",
       "       [[ 8,  6, 20],\n",
       "        [14,  3,  9]]])"
      ]
     },
     "execution_count": 71,
     "metadata": {},
     "output_type": "execute_result"
    }
   ],
   "source": [
    "m"
   ]
  },
  {
   "cell_type": "code",
   "execution_count": 72,
   "id": "891bed31",
   "metadata": {},
   "outputs": [
    {
     "data": {
      "text/plain": [
       "array([21,  8, 11])"
      ]
     },
     "execution_count": 72,
     "metadata": {},
     "output_type": "execute_result"
    }
   ],
   "source": [
    "#Üç boyutlu arraydaki 21,8,11 elemanlarına ulaşalım\n",
    "m[0,1,0:3]"
   ]
  },
  {
   "cell_type": "code",
   "execution_count": 73,
   "id": "bcbf5f17",
   "metadata": {},
   "outputs": [
    {
     "data": {
      "text/plain": [
       "array([ 6, 20])"
      ]
     },
     "execution_count": 73,
     "metadata": {},
     "output_type": "execute_result"
    }
   ],
   "source": [
    "#Üç boyutlu arraydaki 6,20 elemanlarına ulaşalım\n",
    "m[1,0,1:3]"
   ]
  },
  {
   "cell_type": "markdown",
   "id": "66d2aab8",
   "metadata": {},
   "source": [
    "##### 5. 5 satır 3 sütunluk sıfırlardan ve birlerden oluşan iki tane iki boyutlu array oluşturalım. Bu arrayleri satır ve sütun bazında birleştirelim."
   ]
  },
  {
   "cell_type": "code",
   "execution_count": 82,
   "id": "99a6ed29",
   "metadata": {},
   "outputs": [],
   "source": [
    "import numpy as np\n",
    "y = np.array([[0,0,0],[0,0,1],[0,1,0],[1,0,0],[1,1,1]])"
   ]
  },
  {
   "cell_type": "code",
   "execution_count": 83,
   "id": "4785b670",
   "metadata": {},
   "outputs": [
    {
     "data": {
      "text/plain": [
       "array([[0, 0, 0, 0, 0, 0],\n",
       "       [0, 0, 1, 0, 0, 1],\n",
       "       [0, 1, 0, 0, 1, 0],\n",
       "       [1, 0, 0, 1, 0, 0],\n",
       "       [1, 1, 1, 1, 1, 1]])"
      ]
     },
     "execution_count": 83,
     "metadata": {},
     "output_type": "execute_result"
    }
   ],
   "source": [
    "np.concatenate([y,y],axis=1)"
   ]
  }
 ],
 "metadata": {
  "kernelspec": {
   "display_name": "Python 3 (ipykernel)",
   "language": "python",
   "name": "python3"
  },
  "language_info": {
   "codemirror_mode": {
    "name": "ipython",
    "version": 3
   },
   "file_extension": ".py",
   "mimetype": "text/x-python",
   "name": "python",
   "nbconvert_exporter": "python",
   "pygments_lexer": "ipython3",
   "version": "3.9.4"
  }
 },
 "nbformat": 4,
 "nbformat_minor": 5
}
